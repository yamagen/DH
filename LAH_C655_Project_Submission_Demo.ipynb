{
  "nbformat": 4,
  "nbformat_minor": 0,
  "metadata": {
    "colab": {
      "provenance": [],
      "toc_visible": true,
      "include_colab_link": true
    },
    "kernelspec": {
      "name": "python3",
      "display_name": "Python 3"
    },
    "language_info": {
      "name": "python"
    }
  },
  "cells": [
    {
      "cell_type": "markdown",
      "metadata": {
        "id": "view-in-github",
        "colab_type": "text"
      },
      "source": [
        "<a href=\"https://colab.research.google.com/github/yamagen/DH/blob/main/LAH_C655_Project_Submission_Demo.ipynb\" target=\"_parent\"><img src=\"https://colab.research.google.com/assets/colab-badge.svg\" alt=\"Open In Colab\"/></a>"
      ]
    },
    {
      "cell_type": "markdown",
      "source": [
        "# Demostration for the submission and sharing of cource projects"
      ],
      "metadata": {
        "id": "Ri-HA9OMfh_h"
      }
    },
    {
      "cell_type": "markdown",
      "source": [
        "- Git and Github basics\n",
        "- Ehthics e-learning"
      ],
      "metadata": {
        "id": "zjNXfkQ4RUdl"
      }
    },
    {
      "cell_type": "markdown",
      "source": [
        "## 1 | Set Up Git Locally"
      ],
      "metadata": {
        "id": "bowIuoYtVgkk"
      }
    },
    {
      "cell_type": "markdown",
      "source": [
        "### 1.1 | Download and install Git\n",
        "\n",
        "Download and install from [https://git-scm.com/downloads](https://git-scm.com/downloads).\n",
        "\n",
        "Use commmand line to install see: [Getting Started Installing Git](https://git-scm.com/book/en/v2/Getting-Started-Installing-Git)."
      ],
      "metadata": {
        "id": "AGIslTPBVzX4"
      }
    },
    {
      "cell_type": "code",
      "execution_count": null,
      "metadata": {
        "id": "qHoXenMFUn4b",
        "colab": {
          "base_uri": "https://localhost:8080/"
        },
        "outputId": "8a579684-8a11-49c2-9528-f2f1eb25e2d1"
      },
      "outputs": [
        {
          "output_type": "stream",
          "name": "stdout",
          "text": [
            "git version 2.34.1\n"
          ]
        }
      ],
      "source": [
        "# Check installation\n",
        "!git --version"
      ]
    },
    {
      "cell_type": "code",
      "source": [
        "!git config --global user.name \"<your_user_name>\"\n",
        "!git config --global user.email \"<your_email@example.com>\""
      ],
      "metadata": {
        "id": "Mka14O0EYqCz"
      },
      "execution_count": null,
      "outputs": []
    },
    {
      "cell_type": "markdown",
      "source": [
        "## 2 | GitHub"
      ],
      "metadata": {
        "id": "U5ZcjPyTeKOy"
      }
    },
    {
      "cell_type": "markdown",
      "source": [
        "### 2.1 | Create a GitHub Account"
      ],
      "metadata": {
        "id": "7b_aIXSKfHew"
      }
    },
    {
      "cell_type": "markdown",
      "source": [
        "Visit [GitHub](https://github.com/) and sign up for an account."
      ],
      "metadata": {
        "id": "gloFBPuOxzEF"
      }
    },
    {
      "cell_type": "markdown",
      "source": [
        "### 2.2 | Set up SSH keys for authentication.\n",
        "\n",
        "After logging in, we need to set up SSH keys"
      ],
      "metadata": {
        "id": "I8Bpki52frVX"
      }
    },
    {
      "cell_type": "markdown",
      "source": [
        "#### 2.2.1 | Step 1: Check for existing SSH keys\n",
        "\n",
        "  Before generating a new SSH key, check if you already have one on your machine. If you see files like id_rsa and id_rsa.pub, it means you already have an SSH key pair. If not, proceed to the next step."
      ],
      "metadata": {
        "id": "yTCYDKSsg_35"
      }
    },
    {
      "cell_type": "code",
      "source": [
        "!ls -al ~/.ssh"
      ],
      "metadata": {
        "colab": {
          "base_uri": "https://localhost:8080/"
        },
        "id": "AVlYIEx6Zrw7",
        "outputId": "66f51df4-2d55-49c1-ec56-23a779757b87"
      },
      "execution_count": null,
      "outputs": [
        {
          "output_type": "stream",
          "name": "stdout",
          "text": [
            "total 20\n",
            "drwx------ 2 root root 4096 Oct  3 03:43 .\n",
            "drwx------ 1 root root 4096 Oct  3 09:36 ..\n",
            "-rw------- 1 root root  411 Oct  3 03:43 id_ed25519\n",
            "-rw-r--r-- 1 root root  103 Oct  3 03:43 id_ed25519.pub\n"
          ]
        }
      ]
    },
    {
      "cell_type": "markdown",
      "source": [
        "#### 2.2.2 | Step 2: Generate a new SSH key\n",
        "  \n",
        "  If you don't have an SSH key or want to create a new one:"
      ],
      "metadata": {
        "id": "gBkQRD5lh4I9"
      }
    },
    {
      "cell_type": "code",
      "source": [
        "# Note: replacing `your_email@example.com` with\n",
        "# your GitHub email address\n",
        "!ssh-keygen -t ed25519 -C \"your_email@example.com\"\n",
        "# If your version of SSH doesn’t support Ed25519, use RSA:\n",
        "# !ssh-keygen -t rsa -b 4096 -C \"your_email@example.com\""
      ],
      "metadata": {
        "colab": {
          "base_uri": "https://localhost:8080/"
        },
        "id": "wNy_Ob55jFCk",
        "outputId": "7d6a93c3-582e-4843-addb-1580bbabe11c"
      },
      "execution_count": null,
      "outputs": [
        {
          "output_type": "stream",
          "name": "stdout",
          "text": [
            "\n",
            "Generating public/private ed25519 key pair.\n",
            "Enter file in which to save the key (/root/.ssh/id_ed25519): /root/.ssh/id_ed25519 already exists.\n",
            "Overwrite (y/n)? \n"
          ]
        }
      ]
    },
    {
      "cell_type": "markdown",
      "source": [
        "#### 2.2.3 | Step 3: Add your SSH key to the SSH agent"
      ],
      "metadata": {
        "id": "5QuRxbVCkRNa"
      }
    },
    {
      "cell_type": "code",
      "source": [
        "# Start the SSH agent in the background:\n",
        "!eval \"$(ssh-agent -s)\"\n",
        "\n",
        "# Add your SSH private key to the agent:\n",
        "!ssh-add ~/.ssh/id_ed25519\n",
        "# If you used RSA, use the following\n",
        "# !ssh-add ~/.ssh/id_rsa."
      ],
      "metadata": {
        "colab": {
          "base_uri": "https://localhost:8080/"
        },
        "id": "1pxrSwDjhhgL",
        "outputId": "83fd5c87-96ea-4142-c1db-c4d8bb8a77b9"
      },
      "execution_count": null,
      "outputs": [
        {
          "output_type": "stream",
          "name": "stdout",
          "text": [
            "Agent pid 85850\n",
            "Could not open a connection to your authentication agent.\n"
          ]
        }
      ]
    },
    {
      "cell_type": "markdown",
      "source": [
        "#### 2.2.4 | Step 4: Add the SSH key to your GitHub account\n",
        "  \n",
        "  Then manually copy the output. Go to your GitHub account:\n",
        "\n",
        "  - Navigate to Settings > SSH and GPG keys.\n",
        "  - Click New SSH key.\n",
        "  - Paste your SSH key into the \"Key\" field and give it a title.\n",
        "  - Click Add SSH key."
      ],
      "metadata": {
        "id": "m3GSiPOBmdya"
      }
    },
    {
      "cell_type": "code",
      "source": [
        "!cat ~/.ssh/id_ed25519.pub"
      ],
      "metadata": {
        "colab": {
          "base_uri": "https://localhost:8080/"
        },
        "id": "xua4xSX0k-iT",
        "outputId": "88fa0af6-2b64-4e32-a19d-572a355bd702"
      },
      "execution_count": null,
      "outputs": [
        {
          "output_type": "stream",
          "name": "stdout",
          "text": [
            "ssh-ed25519 AAAAC3NzaC1lZDI1NTE5AAAAIHxCIrPssGoZVIPLzqjTnElOV01Hp+dAAVkSP6MOuCwv avionplat@hotmail.com\n"
          ]
        }
      ]
    },
    {
      "cell_type": "markdown",
      "source": [
        "#### 2.2.5 | Step 5: Test the connection\n",
        "\n",
        "  If you see a message like \"Hi username! You've successfully authenticated,\" then the SSH setup is complete.\n",
        "\n"
      ],
      "metadata": {
        "id": "EVzwn1bvnjjD"
      }
    },
    {
      "cell_type": "code",
      "source": [
        "!ssh -T git@github.com"
      ],
      "metadata": {
        "colab": {
          "base_uri": "https://localhost:8080/"
        },
        "id": "95ifONWomxYD",
        "outputId": "9d65dd09-46a9-488a-9483-6c457e897f05"
      },
      "execution_count": null,
      "outputs": [
        {
          "output_type": "stream",
          "name": "stdout",
          "text": [
            "Host key verification failed.\r\n"
          ]
        }
      ]
    },
    {
      "cell_type": "markdown",
      "source": [
        "## 3 | Create a New GitHub Repository"
      ],
      "metadata": {
        "id": "4fLmueBMpHML"
      }
    },
    {
      "cell_type": "markdown",
      "source": [
        "### 3.1 | GitHub"
      ],
      "metadata": {
        "id": "CbTNdmCSpa3r"
      }
    },
    {
      "cell_type": "markdown",
      "source": [
        "\n",
        "- In the top right corner of the GitHub interface, click the `+` icon and select New repository.\n",
        "- Fill in the repository name, description, and choose repository **public**.\n",
        "- You can choose to initialize the repository with a `README.md` file, `.gitignore`, and license.\n",
        "- Click Create repository to create the new repository."
      ],
      "metadata": {
        "id": "QKmH6qBtaNIQ"
      }
    },
    {
      "cell_type": "markdown",
      "source": [
        "### 3.2 | Local\n",
        "\n",
        "- Navigate to the root directory of your project and initialize it as a Git repository.\n",
        "- Add the GitHub repository as a remote.\n",
        "- Now you can check your repository page."
      ],
      "metadata": {
        "id": "gi2vZ2uBrbLV"
      }
    },
    {
      "cell_type": "code",
      "source": [
        "# Navigate to the root directory of your project and\n",
        "# initialize it as a Git repository:\n",
        "!git init\n",
        "\n",
        "# Add the GitHub repository as a remote using SSH:\n",
        "!git remote add origin git@github.com:your-username/your-repository.Git\n",
        "# !git remote add origin https://github.com/your-username/your-repository.git"
      ],
      "metadata": {
        "colab": {
          "base_uri": "https://localhost:8080/"
        },
        "id": "UAcC9LVopJ9I",
        "outputId": "a96edf1a-1eb8-4b73-96df-63911e622bfa"
      },
      "execution_count": null,
      "outputs": [
        {
          "output_type": "stream",
          "name": "stdout",
          "text": [
            "Reinitialized existing Git repository in /content/hachidaishu/.git/\n",
            "error: remote origin already exists.\n"
          ]
        }
      ]
    },
    {
      "cell_type": "markdown",
      "source": [
        "## 4 | Basic usage"
      ],
      "metadata": {
        "id": "wg59HCibsfe6"
      }
    },
    {
      "cell_type": "markdown",
      "source": [
        "### 4.1 | `git clone`: Clone repository"
      ],
      "metadata": {
        "id": "_-n_eOd9k_84"
      }
    },
    {
      "cell_type": "code",
      "source": [
        "# !git clone --recurse-submodules --branch <branch> <repo>\n",
        "# --recurse-submodules is for cloning with submodules\n",
        "!git clone --recurse-submodules --branch main https://github.com/yamagen/hachidaishu.git"
      ],
      "metadata": {
        "colab": {
          "base_uri": "https://localhost:8080/"
        },
        "id": "Nq4bjTvWlsJp",
        "outputId": "fecf592b-8400-483b-faa2-514c656deb5c"
      },
      "execution_count": null,
      "outputs": [
        {
          "output_type": "stream",
          "name": "stdout",
          "text": [
            "Cloning into 'hachidaishu'...\n",
            "remote: Enumerating objects: 75, done.\u001b[K\n",
            "remote: Counting objects: 100% (75/75), done.\u001b[K\n",
            "remote: Compressing objects: 100% (59/59), done.\u001b[K\n",
            "remote: Total 75 (delta 24), reused 59 (delta 15), pack-reused 0 (from 0)\u001b[K\n",
            "Receiving objects: 100% (75/75), 11.51 MiB | 8.46 MiB/s, done.\n",
            "Resolving deltas: 100% (24/24), done.\n"
          ]
        }
      ]
    },
    {
      "cell_type": "code",
      "source": [
        "# Enter the project home directory\n",
        "!cd hachidaishu"
      ],
      "metadata": {
        "id": "0RJZfLein_mh"
      },
      "execution_count": null,
      "outputs": []
    },
    {
      "cell_type": "code",
      "source": [
        "# Note: you don't need to use this block in your terminal\n",
        "# This is for setting working directory for colab\n",
        "import os\n",
        "\n",
        "folder_path = '/content/hachidaishu'\n",
        "os.chdir(folder_path)\n",
        "print(\"Current working directory:\", os.getcwd())"
      ],
      "metadata": {
        "colab": {
          "base_uri": "https://localhost:8080/"
        },
        "id": "lgJYeJ30odUh",
        "outputId": "b2020a93-ad56-4b78-aa9e-88f9e6a3da21"
      },
      "execution_count": null,
      "outputs": [
        {
          "output_type": "stream",
          "name": "stdout",
          "text": [
            "Current working directory: /content/hachidaishu\n"
          ]
        }
      ]
    },
    {
      "cell_type": "code",
      "source": [
        "!ls -al"
      ],
      "metadata": {
        "colab": {
          "base_uri": "https://localhost:8080/"
        },
        "id": "T5K1VUsFpfcY",
        "outputId": "26e55789-db78-4b9f-d5e4-9668a46982ad"
      },
      "execution_count": null,
      "outputs": [
        {
          "output_type": "stream",
          "name": "stdout",
          "text": [
            "total 99200\n",
            "drwxr-xr-x 3 root root     4096 Oct  3 09:38 .\n",
            "drwxr-xr-x 1 root root     4096 Oct  3 09:38 ..\n",
            "-rw-r--r-- 1 root root    15745 Oct  3 09:38 dictionaryconverter.py\n",
            "drwxr-xr-x 8 root root     4096 Oct  3 09:38 .git\n",
            "-rw-r--r-- 1 root root 15181461 Oct  3 09:38 hachidai.db\n",
            "-rw-r--r-- 1 root root 47917003 Oct  3 09:38 hachidaishu.jsonl\n",
            "-rwxr-xr-x 1 root root    16186 Oct  3 09:38 hachidaishu.py\n",
            "-rw-r--r-- 1 root root    21678 Oct  3 09:38 Hachidaishu_Vocabulary_Dataset_Examples.ipynb\n",
            "-rw-r--r-- 1 root root    35342 Oct  3 09:38 Hachidaishu_WLSP_TEI_Conversion.ipynb\n",
            "-rw-r--r-- 1 root root 38362153 Oct  3 09:38 hachidaishu.xml\n",
            "-rw-r--r-- 1 root root     7174 Oct  3 09:38 README.md\n"
          ]
        }
      ]
    },
    {
      "cell_type": "markdown",
      "source": [
        "### 4.2 | `git add`: Add project files and update"
      ],
      "metadata": {
        "id": "qo3q5iq0xiUs"
      }
    },
    {
      "cell_type": "code",
      "source": [
        "# Add a new test file for demo\n",
        "!touch test.txt\n",
        "\n",
        "# Add all project files to the staging area:\n",
        "!git add .\n",
        "\n",
        "# Add a specific file to the staging area:\n",
        "# !git add <filename>\n",
        "\n",
        "# Check changes not staged for commit\n",
        "!git status"
      ],
      "metadata": {
        "id": "W_zrRnEKsP0R",
        "colab": {
          "base_uri": "https://localhost:8080/"
        },
        "outputId": "788f6f53-eec2-48a9-b1a8-d30d3d3a564d"
      },
      "execution_count": null,
      "outputs": [
        {
          "output_type": "stream",
          "name": "stdout",
          "text": [
            "On branch main\n",
            "Your branch is up to date with 'origin/main'.\n",
            "\n",
            "Changes to be committed:\n",
            "  (use \"git restore --staged <file>...\" to unstage)\n",
            "\t\u001b[32mnew file:   test.txt\u001b[m\n",
            "\n"
          ]
        }
      ]
    },
    {
      "cell_type": "markdown",
      "source": [
        "### 4.3 | `git commit -m <message>` Commit changes"
      ],
      "metadata": {
        "id": "OLNHyz-qx-ht"
      }
    },
    {
      "cell_type": "code",
      "source": [
        "# Commit your changes:\n",
        "# !git commit -m \"commit message\"\n",
        "!git commit -m \"add test.txt\""
      ],
      "metadata": {
        "id": "yWEd7xIIyKnu",
        "colab": {
          "base_uri": "https://localhost:8080/"
        },
        "outputId": "57758708-aed4-4923-d299-cdd7aa596bdb"
      },
      "execution_count": null,
      "outputs": [
        {
          "output_type": "stream",
          "name": "stdout",
          "text": [
            "Author identity unknown\n",
            "\n",
            "*** Please tell me who you are.\n",
            "\n",
            "Run\n",
            "\n",
            "  git config --global user.email \"you@example.com\"\n",
            "  git config --global user.name \"Your Name\"\n",
            "\n",
            "to set your account's default identity.\n",
            "Omit --global to set the identity only in this repository.\n",
            "\n",
            "fatal: unable to auto-detect email address (got 'root@acc06e019b93.(none)')\n"
          ]
        }
      ]
    },
    {
      "cell_type": "markdown",
      "source": [
        "### 4.4 | `git push`: Push the local project to the GitHub repository"
      ],
      "metadata": {
        "id": "u8rAZzDUyhkS"
      }
    },
    {
      "cell_type": "code",
      "source": [
        "!git push -u origin main"
      ],
      "metadata": {
        "id": "9RZo-itAyxiM",
        "colab": {
          "base_uri": "https://localhost:8080/"
        },
        "outputId": "ffd7e8fe-f592-4c46-f6e9-b7ae1429f9b1"
      },
      "execution_count": null,
      "outputs": [
        {
          "output_type": "stream",
          "name": "stdout",
          "text": [
            "fatal: could not read Username for 'https://github.com': No such device or address\n"
          ]
        }
      ]
    },
    {
      "cell_type": "markdown",
      "source": [
        "### 4.5 | Other basic usages"
      ],
      "metadata": {
        "id": "09MchdOnhPKQ"
      }
    },
    {
      "cell_type": "markdown",
      "source": [
        "#### 4.5.1 | How to Roll Back to a Specific Commit in Git"
      ],
      "metadata": {
        "id": "jR0evEvQuugc"
      }
    },
    {
      "cell_type": "code",
      "source": [
        "# Find commit hash\n",
        "!git log"
      ],
      "metadata": {
        "colab": {
          "base_uri": "https://localhost:8080/"
        },
        "id": "VFew17riuasH",
        "outputId": "93ed522a-6b1f-4c91-8a6b-5ff05fccd013"
      },
      "execution_count": null,
      "outputs": [
        {
          "output_type": "stream",
          "name": "stdout",
          "text": [
            "\u001b[33mcommit d4c7739105e82310a626fadeca0aeec4fc9d9699\u001b[m\u001b[33m (\u001b[m\u001b[1;36mHEAD -> \u001b[m\u001b[1;32mmain\u001b[m\u001b[33m, \u001b[m\u001b[1;31morigin/main\u001b[m\u001b[33m, \u001b[m\u001b[1;31morigin/HEAD\u001b[m\u001b[33m)\u001b[m\n",
            "Merge: a0aaf7e 9b16071\n",
            "Author: Hilofumi Yamamoto <hilofumi.yamamoto@gmail.com>\n",
            "Date:   Tue Sep 17 19:43:37 2024 +0900\n",
            "\n",
            "    Merge pull request #3 from borh/main\n",
            "    \n",
            "    Add missing lines and improved variant handling in Python script\n",
            "\n",
            "\u001b[33mcommit 9b160718f1bfc9dd9173c0d090343fd8903aa8a1\u001b[m\n",
            "Merge: 4c2e28a a0aaf7e\n",
            "Author: Bor Hodošček <2344864+borh@users.noreply.github.com>\n",
            "Date:   Tue Sep 17 19:30:18 2024 +0900\n",
            "\n",
            "    Merge branch 'yamagen:main' into main\n",
            "\n",
            "\u001b[33mcommit 4c2e28a095ab1b26085f0ce7a0ef49a1e78c63d3\u001b[m\n",
            "Author: Bor Hodošček <dev@bor.space>\n",
            "Date:   Tue Sep 17 19:29:26 2024 +0900\n",
            "\n",
            "    fix: add missing lines\n",
            "\n",
            "\u001b[33mcommit cb48ddc3d73c45792810be1c77233f0c24a3b1c3\u001b[m\n",
            "Author: Bor Hodošček <dev@bor.space>\n",
            "Date:   Tue Sep 17 19:29:03 2024 +0900\n",
            "\n",
            "    feat: improved handling of variants\n",
            "\n",
            "\u001b[33mcommit fc48b0f17b92857eef14e283a8917bc6f44c0322\u001b[m\n",
            "Author: Bor Hodošček <dev@bor.space>\n",
            "Date:   Wed Apr 5 16:39:04 2023 +0900\n",
            "\n",
            "    chore: remove dead code; cleanups\n",
            "\n",
            "\u001b[33mcommit a0aaf7e0a42689db7ad2a78ab2eef9d5ac22341c\u001b[m\n",
            "Merge: 86500a9 8bb4748\n",
            "Author: Hilofumi Yamamoto <hilofumi.yamamoto@gmail.com>\n",
            "Date:   Tue Jul 26 21:31:43 2022 +0900\n",
            "\n",
            "    Merge pull request #2 from borh/main\n",
            "    \n",
            "    updates for DH2022 submission: TEI and JSONL formats\n",
            "\n",
            "\u001b[33mcommit 8bb4748d10a60094990f3521eefd7f070d080e34\u001b[m\n",
            "Author: Bor Hodošček <dev@bor.space>\n",
            "Date:   Tue Jul 26 20:41:26 2022 +0900\n",
            "\n",
            "    updates for DH2022 submission: TEI and JSONL formats\n",
            "\n",
            "\u001b[33mcommit 86500a90e641a4b893674a8f1ad0fc2b5d32eb2d\u001b[m\n",
            "Merge: 1be9561 aa9409c\n",
            "Author: Hilofumi Yamamoto <hilofumi.yamamoto@gmail.com>\n",
            "Date:   Tue Jun 22 14:02:58 2021 +0900\n",
            "\n",
            "    Merge pull request #1 from borh/main\n",
            "    \n",
            "    Jupyter notebook with examples\n",
            "\n",
            "\u001b[33mcommit aa9409cc07e49a41da3a18bc420dddd02ac2d171\u001b[m\n",
            "Author: Bor Hodošček <dev@bor.space>\n",
            "Date:   Tue Jun 22 13:29:59 2021 +0900\n",
            "\n",
            "    added note on Jupyter notebook with examples\n",
            "    \n",
            "    Signed-off-by: Bor Hodošček <dev@bor.space>\n",
            "\n",
            "\u001b[33mcommit 22704acee0c7ad71a824c89b21a2e9215279a322\u001b[m\n",
            "Author: Bor Hodošček <dev@bor.space>\n",
            "Date:   Tue Jun 22 13:07:50 2021 +0900\n",
            "\n",
            "    added Jupyter notebook with examples\n",
            "    \n",
            "    Signed-off-by: Bor Hodošček <dev@bor.space>\n",
            "\n",
            "\u001b[33mcommit 1be95614a463bcae96397f01c13e7118d4564aee\u001b[m\n",
            "Author: Hilofumi Yamamoto <hilofumi.yamamoto@gmail.com>\n",
            "Date:   Sat Jun 19 09:58:02 2021 +0900\n",
            "\n",
            "    Time stamp removed\n",
            "\n",
            "\u001b[33mcommit 302d1ae7fa1ecaddf57ab887f5d145ff78ce803f\u001b[m\n",
            "Author: Hilofumi Yamamoto <hilofumi.yamamoto@gmail.com>\n",
            "Date:   Sat Jun 19 09:57:01 2021 +0900\n",
            "\n",
            "    Unnecessary files deleted\n",
            "\n",
            "\u001b[33mcommit 324c38fab7f6e7dc800dbe316eeef2d3662a92e2\u001b[m\n",
            "Author: Hilofumi Yamamoto <hilofumi.yamamoto@gmail.com>\n",
            "Date:   Sat Jun 19 09:55:05 2021 +0900\n",
            "\n",
            "    Time stamp add\n",
            "\n",
            "\u001b[33mcommit cf247b8016373748ff1f0e328a39a167a0f30163\u001b[m\n",
            "Author: Hilofumi Yamamoto <hilofumi.yamamoto@gmail.com>\n",
            "Date:   Sat Jun 19 09:51:15 2021 +0900\n",
            "\n",
            "    README updated\n",
            "\n",
            "\u001b[33mcommit b5c266fd81b996194544579e8b77a4c2149fe41e\u001b[m\n",
            "Merge: 4ad1c1d 355817b\n",
            "Author: Hilofumi Yamamoto <hilofumi.yamamoto@gmail.com>\n",
            "Date:   Sat Jun 19 09:44:08 2021 +0900\n",
            "\n",
            "    file removed: ipynb\n",
            "\n",
            "\u001b[33mcommit 4ad1c1da90f77bd3ebf61ebb9dfedb2ff6d0fbbe\u001b[m\n",
            "Author: Hilofumi Yamamoto <hilofumi.yamamoto@gmail.com>\n",
            "Date:   Sat Jun 19 09:40:33 2021 +0900\n",
            "\n",
            "    file removed: ipynb\n",
            "\n",
            "\u001b[33mcommit 355817b3a92f751906d13898d67a176631b5e1b6\u001b[m\n",
            "Author: Hilofumi Yamamoto <hilofumi.yamamoto@gmail.com>\n",
            "Date:   Sat Jun 19 09:24:24 2021 +0900\n",
            "\n",
            "    Examples with Colaboratory\n",
            "\n",
            "\u001b[33mcommit 40586920ed49606de3728b7683ad671bdba90e85\u001b[m\n",
            "Author: Hilofumi Yamamoto <hilofumi.yamamoto@gmail.com>\n",
            "Date:   Sat Jun 19 09:22:35 2021 +0900\n",
            "\n",
            "    Colaboratory を使用して作成しました\n",
            "\n",
            "\u001b[33mcommit 83e31a755ff84c4300fdfed9ea8956d6aea63c4a\u001b[m\n",
            "Author: Hilofumi Yamamoto <hilofumi.yamamoto@gmail.com>\n",
            "Date:   Sun May 9 15:35:44 2021 +0900\n",
            "\n",
            "    README.md revised with DOI\n",
            "\n",
            "\u001b[33mcommit 1daa3800cb1cb99c16cf35d47ad849c30bd8e417\u001b[m\n",
            "Author: Hilofumi Yamamoto <hilofumi.yamamoto@gmail.com>\n",
            "Date:   Sun May 9 15:32:21 2021 +0900\n",
            "\n",
            "    README.md revised with surface forms\n",
            "\n",
            "\u001b[33mcommit 9fbf49522fd6f3ec4e1c3ae2c9e75749e37fc4f7\u001b[m\n",
            "Author: Hilofumi Yamamoto <hilofumi.yamamoto@gmail.com>\n",
            "Date:   Sun May 9 14:20:16 2021 +0900\n",
            "\n",
            "    surface form added\n",
            "\n",
            "\u001b[33mcommit 7110cfcbe7dabd2e0c437b5c58341678c925be49\u001b[m\n",
            "Author: Hilofumi Yamamoto <hilofumi.yamamoto@gmail.com>\n",
            "Date:   Wed May 5 19:38:05 2021 +0900\n",
            "\n",
            "    DOI URL added\n",
            "\n",
            "\u001b[33mcommit a92fd6ce2f9445141be5aed5147a362070e72c25\u001b[m\n",
            "Author: Hilofumi Yamamoto <hilofumi.yamamoto@gmail.com>\n",
            "Date:   Wed May 5 19:33:51 2021 +0900\n",
            "\n",
            "    Reference added\n",
            "\n",
            "\u001b[33mcommit 93ea2833c8a81c467eceeb6a197341fd26404750\u001b[m\n",
            "Author: Hilofumi Yamamoto <hilofumi.yamamoto@gmail.com>\n",
            "Date:   Tue May 4 16:45:14 2021 +0900\n",
            "\n",
            "    Readme update: offset explanation changed\n",
            "\n",
            "\u001b[33mcommit 425c46d847c6a8bd5aa790fed1705aaf5c6f976c\u001b[m\n",
            "Author: Hilofumi Yamamoto <hilofumi.yamamoto@gmail.com>\n",
            "Date:   Tue May 4 16:42:54 2021 +0900\n",
            "\n",
            "    Readme update: data offset; utf-8\n",
            "\n",
            "\u001b[33mcommit 6c5d36965468696b29fd71b5e70a1cfd4eda763c\u001b[m\n",
            "Author: Hilofumi Yamamoto <hilofumi.yamamoto@gmail.com>\n",
            "Date:   Tue May 4 16:41:11 2021 +0900\n",
            "\n",
            "    Readme update: data offset\n",
            "\n",
            "\u001b[33mcommit 46b72b9064a7857b78805178352b7c50aadc53bb\u001b[m\n",
            "Author: Hilofumi Yamamoto <hilofumi.yamamoto@gmail.com>\n",
            "Date:   Mon May 3 22:41:56 2021 +0900\n",
            "\n",
            "    first commit\n"
          ]
        }
      ]
    },
    {
      "cell_type": "code",
      "source": [
        "# Method 1: Undo a specific commit (Preserve Commit History)\n",
        "!git revert <commit_hash_to_revert>"
      ],
      "metadata": {
        "id": "2iMYx1P4ywll"
      },
      "execution_count": null,
      "outputs": []
    },
    {
      "cell_type": "code",
      "source": [
        "# Method 2: Temporarily switch to a commit\n",
        "# This is for testing or viewing purposes\n",
        "# won't modify the commit history\n",
        "!git checkout <commit_hash>\n",
        "\n",
        "# Return to the original commit\n",
        "!git checkout main"
      ],
      "metadata": {
        "colab": {
          "base_uri": "https://localhost:8080/"
        },
        "id": "6bviZ8alzVkf",
        "outputId": "ef244271-57ff-44f4-86f3-69402c7c0531"
      },
      "execution_count": null,
      "outputs": [
        {
          "output_type": "stream",
          "name": "stdout",
          "text": [
            "/bin/bash: -c: line 1: syntax error near unexpected token `newline'\n",
            "/bin/bash: -c: line 1: `git checkout <commit_hash>'\n",
            "Already on 'main'\n",
            "Your branch is ahead of 'origin/main' by 1 commit.\n",
            "  (use \"git push\" to publish your local commits)\n"
          ]
        }
      ]
    },
    {
      "cell_type": "code",
      "source": [
        "# Roll back the commit history to a specific point but\n",
        "# keep all the changes in your working directory and staging area\n",
        "!git reset --soft <commit-hash>"
      ],
      "metadata": {
        "id": "7LxLL7zY1-YN"
      },
      "execution_count": null,
      "outputs": []
    },
    {
      "cell_type": "markdown",
      "source": [
        "#### 4.5.2 | Include other repositories as tools or data in your Git project: Submodules or subtrees"
      ],
      "metadata": {
        "id": "Dj071Epq4wk0"
      }
    },
    {
      "cell_type": "code",
      "source": [
        "# Use git submodule: a more flexible way\n",
        "!git submodule add https://github.com/other-username/other-repository.git <path/to/submodule>\n",
        "\n",
        "# Update to the latest version\n",
        "!git submodule update --remote"
      ],
      "metadata": {
        "id": "Irrj4vXn47eD"
      },
      "execution_count": null,
      "outputs": []
    },
    {
      "cell_type": "code",
      "source": [
        "# Use git subtree: a more static way\n",
        "!git subtree add --prefix=<path/to/subtree> https://github.com/other-username/other-repository.git <branch> --squash\n",
        "\n",
        "# Update to the latest version\n",
        "!git subtree pull --prefix=<path/to/subtree> https://github.com/other-username/other-repository.git <branch> --squash"
      ],
      "metadata": {
        "id": "ySnUjbsA64pD"
      },
      "execution_count": null,
      "outputs": []
    },
    {
      "cell_type": "markdown",
      "source": [
        "#### 4.5.3 | Collabration (optional)"
      ],
      "metadata": {
        "id": "64SVDJ2A_Pss"
      }
    },
    {
      "cell_type": "code",
      "source": [
        "!git clone <shared-repo-url>\n",
        "!cd <shared-repo-name>\n",
        "\n",
        "# After clone and Creating a new feature branch:\n",
        "!git checkout -b <featured-branch>\n",
        "\n",
        "# Working on the feature and committing changes\n",
        "!git add .\n",
        "!git commit -m \"add new features\"\n",
        "\n",
        "# Push your branch to the shared repository so others can see it\n",
        "!git push origin <featured-branch>"
      ],
      "metadata": {
        "id": "i1VFI2ug_U0S"
      },
      "execution_count": null,
      "outputs": []
    },
    {
      "cell_type": "markdown",
      "source": [
        "To integrate your changes into the main branch, you can use **pull requests** (PRs) or **merge requests** (MRs). This is an important part of collaborative workflows, allowing others to review your code before it’s merged.\n",
        "\n",
        "1. Step 1: Open a Pull Request\n",
        "  After pushing your branch, go to the GitHub repository and open a new pull request:\n",
        "  - Compare your `feature-branch` with the `main` branch.\n",
        "  - Add a clear title and description to explain what your changes do.\n",
        "\n",
        "2. Step 2: Code Review\n",
        "  Other collaborators can review the pull request and leave feedback. If necessary, you can make additional commits to your branch to address feedback.\n",
        "\n",
        "3. Step 3: Merge the Pull Request\n",
        "  Once your changes have been approved, the pull request can be merged into the `main` branch.\n",
        "\n",
        "4. Step 4: Pull Latest Changes\n",
        "  After merging, all collaborators should pull the latest changes from the main branch:"
      ],
      "metadata": {
        "id": "5Qbmt58vD2FA"
      }
    },
    {
      "cell_type": "code",
      "source": [
        "!git pull origin main"
      ],
      "metadata": {
        "id": "cFv5njzsCtOU"
      },
      "execution_count": null,
      "outputs": []
    },
    {
      "cell_type": "markdown",
      "source": [
        "The above are for feature branch -> main branch. We need also keeping our branch Up-to-Date, that is main branch -> feature branch"
      ],
      "metadata": {
        "id": "MShvkS_cF80J"
      }
    },
    {
      "cell_type": "code",
      "source": [
        "# Fetch the Latest Changes\n",
        "# You can fetch the latest changes from the main branch\n",
        "# This won't affect your current branch:\n",
        "!git fetch origin\n",
        "\n",
        "# Apply your feature branch changes on\n",
        "# top of the latest main branch commits.\n",
        "!git rebase origin/main\n",
        "\n",
        "# If you've merged or rebased, push the updated\n",
        "# branch to the remote repository:\n",
        "git push origin <feature-branch>"
      ],
      "metadata": {
        "id": "k_nIncd9EUcl"
      },
      "execution_count": null,
      "outputs": []
    },
    {
      "cell_type": "markdown",
      "source": [
        "## 5 | Simplest way: Use Colab"
      ],
      "metadata": {
        "id": "P5MkHPdRzGSA"
      }
    },
    {
      "cell_type": "markdown",
      "source": [
        "File > Save a copy in GitHub.\n",
        "  - Choose repository\n",
        "  - Choose branch: generally `main`.\n",
        "\n",
        "**Note**: Do not forget upload your materials or data for the `.ipynb` file."
      ],
      "metadata": {
        "id": "Hx19fxzMzPK4"
      }
    },
    {
      "cell_type": "markdown",
      "source": [
        "## 6 | Project structure (c.f., https://nlp.lang.osaka-u.ac.jp/nlp/reproducible-research/)"
      ],
      "metadata": {
        "id": "AuAg_0SB6bYr"
      }
    },
    {
      "cell_type": "markdown",
      "source": [
        "1. Prefer relative paths (`../Data/01.csv`) over absolute paths (`/home/name/Projects/Title/Data/01.csv`)\n",
        "2. Some paths have to be absolute (i.e. `/usr/bin/python etc.`).\n",
        "3. Naming\n",
        "  - Do not use any of the symbols `& * % $ £ [ ] { } ! @ /` in the filename.\n",
        "  - Try to standardize filenames so they contain the same type of information in the same places:\n",
        "    - `results-a-2017-10-06-1.csv` or `2017-10-06-results-a-1.csv`\n",
        "    - Be consistent: use the same case Results-1, Results-2, … (not results-2)\n",
        "4. Literate programming or use organized folder structure (optional), e.g.:\n",
        "    ```\n",
        "    my_project/\n",
        "    ├── hyperparameters/         # Hyperparameter config files\n",
        "    │   └── config.yaml\n",
        "    ├── logs/                    # Logs for training and experiments\n",
        "    │   └── experiment_1.log\n",
        "    ├── cache/                   # Cache intermediate results\n",
        "    │   └── cache_data.pkl\n",
        "    ├── artifacts/               # Experiment outputs like metrics and results\n",
        "    │   ├── metrics.json\n",
        "    │   └── results.png\n",
        "    ├── data/                    # Raw and processed datasets\n",
        "    │   ├── raw/\n",
        "    │   │   └── dataset.csv\n",
        "    │   └── processed/\n",
        "    │       └── processed_data.csv\n",
        "    ├── models/                  # Trained models\n",
        "    │   └── model_v1.pth\n",
        "    ├── notebooks/               # Jupyter notebooks for exploration\n",
        "    │   └── exploratory.ipynb\n",
        "    ├── scripts/                 # Core scripts for the project\n",
        "    │   ├── train.py\n",
        "    │   ├── preprocess.py\n",
        "    │   └── evaluate.py\n",
        "    ├── tests/                   # Unit tests\n",
        "    │   └── test_train.py\n",
        "    ├── configs/                 # Experiment configuration files\n",
        "    │   └── experiment_1.yaml\n",
        "    ├── docker/                  # Docker configuration\n",
        "    │   └── Dockerfile\n",
        "    ├── documents/               # Papers or documentation related to the project\n",
        "    │   └── paper.pdf\n",
        "    │   └── paper.tex\n",
        "    │   └── paper.typst\n",
        "    │   └── paper.docx\n",
        "    ├── references/\n",
        "    │   └── references.bib\n",
        "    ├── requirements.txt         # Python dependencies\n",
        "    ├── environment.yaml         # Environment definition\n",
        "    ├── .gitignore               # Git ignore file\n",
        "    └── README.md                # Project description and instructions\n",
        "    ```\n",
        "    The folder structure dependends on the type of project and choice of programming languages and build tools.\n",
        "    "
      ],
      "metadata": {
        "id": "BBurjQ2d6Ux0"
      }
    },
    {
      "cell_type": "markdown",
      "source": [
        "## 7 | Ethics e-learning (Important)"
      ],
      "metadata": {
        "id": "4HxvtncR-iyB"
      }
    },
    {
      "cell_type": "markdown",
      "source": [
        "You are required to complete one of the following courses only once:\n",
        "\n",
        "If you have already completed one of these courses, please obtain a copy of the completion certificate and submit it via T2SCHOLA.\n",
        "\n",
        "- [E-Learning Course on Research Ethics (eL CoRE)](https://elcore.jsps.go.jp/top.aspx)\n",
        "- [APRIN E-learning program](https://edu.aprin.or.jp/)\n",
        "\n",
        "For information about research ethics education at Tokyo Tech and available e-learning materials, please refer to the following URL:\n",
        "\n",
        "https://www.titech.ac.jp/student/students/life/research-ethics\n",
        "\n",
        "Deadline for submitting the completion certificate: During today's class.\n",
        "\n",
        "\n"
      ],
      "metadata": {
        "id": "YjbJ5enq-mPj"
      }
    },
    {
      "cell_type": "markdown",
      "source": [
        "## 8 | Other issues (optional)"
      ],
      "metadata": {
        "id": "bRUe9fLEz5jH"
      }
    },
    {
      "cell_type": "markdown",
      "source": [
        "### 8.1 | Alternative repository platform for open scientific reaserches"
      ],
      "metadata": {
        "id": "q2fPAg-4zp6H"
      }
    },
    {
      "cell_type": "markdown",
      "source": [
        "1. [Open Science Framework (OSF)](https://osf.io/)\n",
        "    \n",
        "    OSF is an open-source platform designed to support open, transparent, and reproducible research. It is basically a collaboration tool for researchers, helping you manage your projects, share data, and even collaborate with others on research.\n",
        "\n",
        "    Some key things about OSF:\n",
        "    - **Project Management**: You can use OSF to organize your research projects, store files, create version-controlled data, and manage all your research materials in one place.\n",
        "    - **Collaboration**: It is great for group projects. You can easily invite collaborators, assign roles, and even make specific parts of your project public or private.\n",
        "    - **Open Science**: OSF is about promoting open science. You can choose to share your data, code, or results with the public, which can help increase the visibility and credibility of your work.\n",
        "    - **Integrations**: It integrates with other tools like GitHub, Google Drive, and Dropbox, so you can link your existing workflows easily.\n",
        "\n",
        "    So if you are working on any research or group projects, OSF is a usefull platform to keep everything organized and ensure transparency in your work.\n",
        "\n",
        "2. [Zenodo](https://zenodo.org/)\n",
        "\n",
        "    Zenodo is a digital repository that is part of CERN. It is a platform where you can **archive** your research outputs—everything from data sets, papers, software, to presentations—and make them openly accessible.\n",
        "\n",
        "    Some key things about Zenodo:\n",
        "    - **Free and Open**: It is completely free to use and encourages open-access research. Anyone can access the materials you upload, and it is a great way to increase the visibility of your work.\n",
        "    - **DOI Assignment**: Zenodo assigns a **DOI (Digital Object Identifier)** to every item you upload. This is important because it means your work can be cited properly in future research, giving you more recognition.\n",
        "    - **Data Preservation**: It is a reliable place to store your research materials, and they ensure long-term preservation, so you do not have to worry about your data disappearing.\n",
        "    - **Wide Range of Formats**: You can upload different types of research outputs, like papers, code, presentations, or even raw datasets.\n",
        "\n",
        "    Zenodo is perfect for researchers who want to share their work with the academic community or the public and ensure it is preserved for the long term. Whether you're publishing a final project, a dataset, or even code, Zenodo helps make your work accessible and citable.\n",
        "\n",
        "3. [Harvard Dataverse](https://dataverse.harvard.edu/): for replication data\n",
        "\n"
      ],
      "metadata": {
        "id": "fHg0VFozzvwJ"
      }
    },
    {
      "cell_type": "markdown",
      "source": [
        "### 8.2 | Tools for reproducible environment"
      ],
      "metadata": {
        "id": "-KSajcuCo_WY"
      }
    },
    {
      "cell_type": "markdown",
      "source": [
        " - [Docker](https://www.docker.com/): Accelerate how you build, share, and run applications\n",
        " - [Nix](https://nixos.org/): Declarative builds and deployments.\n",
        "    \n",
        "    Nix is a tool that takes a unique approach to package management and system configuration. Learn how to make reproducible, declarative and reliable systems.\n",
        "    - [Reproducible Environments With Nix](https://www.software.ac.uk/blog/reproducible-environments-nix)\n",
        "    - [Reproducible data science with Nix](https://www.brodrigues.co/tags/nix/)\n",
        " - [Guix](https://guix.gnu.org/): GNU Guix is a package manager for GNU/Linux systems.\n",
        "    \n",
        "    It is designed to give users more control over their general-purpose and specialized computing environments, and make these easier to reproduce over time and deploy to one or many devices.\n",
        "    - [Toward practical transparent verifiable and long-term reproducible research using Guix](https://www.nature.com/articles/s41597-022-01720-9)"
      ],
      "metadata": {
        "id": "V8uOrn51pNox"
      }
    },
    {
      "cell_type": "markdown",
      "source": [
        "### 8.3 | Literate Programming"
      ],
      "metadata": {
        "id": "jv7DjLr_0WHj"
      }
    },
    {
      "cell_type": "markdown",
      "source": [
        "- [Jupyter notebook](https://jupyter.org/)\n",
        "- [RMarkdown](https://rmarkdown.rstudio.com/)\n",
        "- [Quarto](https://quarto.org/)\n",
        "- Emacs [Org Mode](https://orgmode.org/quickstart.html)"
      ],
      "metadata": {
        "id": "mEtOa6VlYqR5"
      }
    },
    {
      "cell_type": "markdown",
      "source": [
        "## References"
      ],
      "metadata": {
        "id": "2iG1RdGGfbIj"
      }
    },
    {
      "cell_type": "markdown",
      "source": [
        "- https://colab.research.google.com/github/versae/open-research-notebooks/blob/master/slides.ipynb\n",
        "- [Reproducible reaserch](https://nlp.lang.osaka-u.ac.jp/nlp/reproducible-research/)\n",
        "- [Methods in corpus linguistics: Git Cheetsheet](https://mclm2022.github.io/git/cheatsheet.html)\n",
        "- [ オープンアクセスハンドブック - 東京大学](https://repository.dl.itc.u-tokyo.ac.jp/record/47711/files/OpenAccessHandBook.pdf)"
      ],
      "metadata": {
        "id": "8HY0vw93lA3Z"
      }
    },
    {
      "cell_type": "code",
      "source": [],
      "metadata": {
        "id": "V0NPlifofdS_"
      },
      "execution_count": null,
      "outputs": []
    }
  ]
}